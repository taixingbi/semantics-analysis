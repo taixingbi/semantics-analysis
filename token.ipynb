{
 "cells": [
  {
   "cell_type": "markdown",
   "metadata": {},
   "source": [
    "# Tokenization, , lower,  stopword & digit & punctuation removal"
   ]
  },
  {
   "cell_type": "code",
   "execution_count": 2,
   "metadata": {},
   "outputs": [
    {
     "name": "stdout",
     "output_type": "stream",
     "text": [
      "read path:  all/labeledTrainData.tsv\n",
      "            id  sentiment                                             review\n",
      "24995   3453_3          0  It seems like more consideration has gone into...\n",
      "24996   5064_1          0  I don't believe they made this film. Completel...\n",
      "24997  10905_3          0  Guy is a loser. Can't get girls, needs to buil...\n",
      "24998  10194_3          0  This 30 minute documentary Buñuel made in the ...\n",
      "24999   8478_8          1  I saw this movie as a child and it broke my he...\n",
      "load path:  tmp/labeledTraintoken.csv\n",
      "count    25000.000000\n",
      "mean       703.210240\n",
      "std        546.984429\n",
      "min         26.000000\n",
      "25%        364.000000\n",
      "50%        516.000000\n",
      "75%        854.000000\n",
      "max       8044.000000\n",
      "Name: review, dtype: float64\n"
     ]
    },
    {
     "data": {
      "text/html": [
       "<div>\n",
       "<style scoped>\n",
       "    .dataframe tbody tr th:only-of-type {\n",
       "        vertical-align: middle;\n",
       "    }\n",
       "\n",
       "    .dataframe tbody tr th {\n",
       "        vertical-align: top;\n",
       "    }\n",
       "\n",
       "    .dataframe thead th {\n",
       "        text-align: right;\n",
       "    }\n",
       "</style>\n",
       "<table border=\"1\" class=\"dataframe\">\n",
       "  <thead>\n",
       "    <tr style=\"text-align: right;\">\n",
       "      <th></th>\n",
       "      <th>id</th>\n",
       "      <th>sentiment</th>\n",
       "      <th>review</th>\n",
       "    </tr>\n",
       "  </thead>\n",
       "  <tbody>\n",
       "    <tr>\n",
       "      <th>24995</th>\n",
       "      <td>3453_3</td>\n",
       "      <td>0</td>\n",
       "      <td>It like consideration IMDb review film review ...</td>\n",
       "    </tr>\n",
       "    <tr>\n",
       "      <th>24996</th>\n",
       "      <td>5064_1</td>\n",
       "      <td>0</td>\n",
       "      <td>I believe make film Completely unnecessary The...</td>\n",
       "    </tr>\n",
       "    <tr>\n",
       "      <th>24997</th>\n",
       "      <td>10905_3</td>\n",
       "      <td>0</td>\n",
       "      <td>Guy loser girl need build pick strong successf...</td>\n",
       "    </tr>\n",
       "    <tr>\n",
       "      <th>24998</th>\n",
       "      <td>10194_3</td>\n",
       "      <td>0</td>\n",
       "      <td>This minute documentary Buñuel make early Spai...</td>\n",
       "    </tr>\n",
       "    <tr>\n",
       "      <th>24999</th>\n",
       "      <td>8478_8</td>\n",
       "      <td>1</td>\n",
       "      <td>I movie child break heart No story unfinished ...</td>\n",
       "    </tr>\n",
       "  </tbody>\n",
       "</table>\n",
       "</div>"
      ],
      "text/plain": [
       "            id  sentiment                                             review\n",
       "24995   3453_3          0  It like consideration IMDb review film review ...\n",
       "24996   5064_1          0  I believe make film Completely unnecessary The...\n",
       "24997  10905_3          0  Guy loser girl need build pick strong successf...\n",
       "24998  10194_3          0  This minute documentary Buñuel make early Spai...\n",
       "24999   8478_8          1  I movie child break heart No story unfinished ..."
      ]
     },
     "execution_count": 2,
     "metadata": {},
     "output_type": "execute_result"
    },
    {
     "data": {
      "image/png": "[encoded data removed]",
      "text/plain": [
       "<Figure size 432x288 with 1 Axes>"
      ]
     },
     "metadata": {},
     "output_type": "display_data"
    }
   ],
   "source": [
    "import pandas as pd\n",
    "import numpy as np\n",
    "import string\n",
    "from sklearn.feature_extraction.stop_words import ENGLISH_STOP_WORDS as stopwords \n",
    "\n",
    "import spacy\n",
    "spacy.load('en_core_web_sm')\n",
    "from spacy.lang.en import English\n",
    "\n",
    "parser = English()\n",
    "\n",
    "def text_preprocessing():\n",
    "    col= 'review'\n",
    "    \n",
    "    def read_file(path_read_file):\n",
    "        print(\"read path: \",path_read_file)\n",
    "        df = pd.read_csv(path_read_file, sep = '\\t', error_bad_lines=False )\n",
    "        print(df.tail())\n",
    "        return df\n",
    "\n",
    "    def load_file(df, path_load_file):\n",
    "        print(\"load path: \", path_load_file)\n",
    "        df.to_csv(path_load_file)\n",
    "        return df\n",
    "\n",
    "    #sent = \"I like statements that are both true and absurd. 12 I love you\"\n",
    "    def spacy_tokenizer(text):\n",
    "        tokens = parser(text)\n",
    "        #token, stopword removal, lower, digit removal,  punctuation removal\n",
    "        tokens = [tok.lemma_.strip() if tok.lemma_ != \"-PRON-\" else tok.lower_ for tok in tokens]\n",
    "        tokens = [tok for tok in tokens if (tok not in stopwords and tok not in string.punctuation) and tok.isalpha()]  \n",
    "        return \" \".join(tokens)\n",
    "\n",
    "    def sentense_size_analysis(df):\n",
    "        df_len = df[col].map(str).apply(len)\n",
    "        df_len.plot()\n",
    "        print( df_len.describe() )\n",
    "\n",
    "    path_read_file= 'all/labeledTrainData.tsv'\n",
    "    path_load_file= 'tmp/labeledTraintoken.csv'\n",
    "\n",
    "    df= read_file(path_read_file)\n",
    "    df[col] = df[col].apply(spacy_tokenizer)\n",
    "    load_file(df, path_load_file)\n",
    "\n",
    "    sentense_size_analysis(df)\n",
    "    return df\n",
    "\n",
    "df= text_preprocessing()   \n",
    "df.tail()"
   ]
  },
  {
   "cell_type": "code",
   "execution_count": null,
   "metadata": {},
   "outputs": [],
   "source": []
  },
  {
   "cell_type": "code",
   "execution_count": null,
   "metadata": {},
   "outputs": [],
   "source": []
  }
 ],
 "metadata": {
  "kernelspec": {
   "display_name": "Python 3",
   "language": "python",
   "name": "python3"
  },
  "language_info": {
   "codemirror_mode": {
    "name": "ipython",
    "version": 3
   },
   "file_extension": ".py",
   "mimetype": "text/x-python",
   "name": "python",
   "nbconvert_exporter": "python",
   "pygments_lexer": "ipython3",
   "version": "3.6.5"
  }
 },
 "nbformat": 4,
 "nbformat_minor": 2
}
